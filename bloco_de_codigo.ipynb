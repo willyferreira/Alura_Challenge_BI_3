{
 "cells": [
  {
   "attachments": {},
   "cell_type": "markdown",
   "metadata": {},
   "source": [
    "<h4>Importação das bibliotecas utilizadas</h4>"
   ]
  },
  {
   "cell_type": "code",
   "execution_count": 1,
   "metadata": {},
   "outputs": [],
   "source": [
    "#Biliotecas utilizadas\n",
    "#* Manipulação de dados\n",
    "import pandas as pd\n",
    "import numpy as np\n",
    "import openpyxl\n",
    "#* Dataviz\n",
    "import matplotlib.pyplot as plt\n",
    "import seaborn as sns"
   ]
  },
  {
   "attachments": {},
   "cell_type": "markdown",
   "metadata": {},
   "source": [
    "<h4>Leitura do dataset e manipulação dos dados</h4>"
   ]
  },
  {
   "cell_type": "code",
   "execution_count": 2,
   "metadata": {},
   "outputs": [
    {
     "data": {
      "text/html": [
       "<div>\n",
       "<style scoped>\n",
       "    .dataframe tbody tr th:only-of-type {\n",
       "        vertical-align: middle;\n",
       "    }\n",
       "\n",
       "    .dataframe tbody tr th {\n",
       "        vertical-align: top;\n",
       "    }\n",
       "\n",
       "    .dataframe thead th {\n",
       "        text-align: right;\n",
       "    }\n",
       "</style>\n",
       "<table border=\"1\" class=\"dataframe\">\n",
       "  <thead>\n",
       "    <tr style=\"text-align: right;\">\n",
       "      <th></th>\n",
       "      <th>Article URL</th>\n",
       "      <th>Nome do artigo</th>\n",
       "      <th>Categoria</th>\n",
       "      <th>Campanha</th>\n",
       "      <th>Data</th>\n",
       "      <th>Visitas Diretas</th>\n",
       "      <th>Novos usuários únicos</th>\n",
       "      <th>Clicks pagos</th>\n",
       "      <th>Tempo de leitura (minutos)</th>\n",
       "      <th>Clicks redes sociais</th>\n",
       "      <th>Vezes pesquisados</th>\n",
       "      <th>Visualizações</th>\n",
       "    </tr>\n",
       "  </thead>\n",
       "  <tbody>\n",
       "    <tr>\n",
       "      <th>0</th>\n",
       "      <td>Article_46</td>\n",
       "      <td>Escuta ativa e como isso mudará sua abordagem</td>\n",
       "      <td>Gestão</td>\n",
       "      <td>1047.0</td>\n",
       "      <td>2021-07-21</td>\n",
       "      <td>342016.0</td>\n",
       "      <td>547225.60</td>\n",
       "      <td>0.0</td>\n",
       "      <td>3.245274e+06</td>\n",
       "      <td>889241.60</td>\n",
       "      <td>153907.20</td>\n",
       "      <td>1710122.0</td>\n",
       "    </tr>\n",
       "    <tr>\n",
       "      <th>1</th>\n",
       "      <td>Article_58</td>\n",
       "      <td>Observabilidade da ciência de dados para execu...</td>\n",
       "      <td>Data Science</td>\n",
       "      <td>1047.0</td>\n",
       "      <td>2021-08-23</td>\n",
       "      <td>272451.6</td>\n",
       "      <td>435922.56</td>\n",
       "      <td>0.0</td>\n",
       "      <td>1.795001e+06</td>\n",
       "      <td>708374.16</td>\n",
       "      <td>122603.22</td>\n",
       "      <td>1362355.0</td>\n",
       "    </tr>\n",
       "    <tr>\n",
       "      <th>2</th>\n",
       "      <td>Article_40</td>\n",
       "      <td>Principais dicas para consolidar sua pilha de ...</td>\n",
       "      <td>Tecnologia</td>\n",
       "      <td>1047.0</td>\n",
       "      <td>2021-07-23</td>\n",
       "      <td>204775.2</td>\n",
       "      <td>327640.32</td>\n",
       "      <td>0.0</td>\n",
       "      <td>2.135547e+06</td>\n",
       "      <td>532415.52</td>\n",
       "      <td>92148.84</td>\n",
       "      <td>1023953.0</td>\n",
       "    </tr>\n",
       "    <tr>\n",
       "      <th>3</th>\n",
       "      <td>Article_19</td>\n",
       "      <td>Desbloqueando o acesso aos seus dados</td>\n",
       "      <td>Tecnologia</td>\n",
       "      <td>1047.0</td>\n",
       "      <td>2021-09-10</td>\n",
       "      <td>189002.0</td>\n",
       "      <td>302403.20</td>\n",
       "      <td>0.0</td>\n",
       "      <td>3.167173e+06</td>\n",
       "      <td>491405.20</td>\n",
       "      <td>85050.90</td>\n",
       "      <td>945098.0</td>\n",
       "    </tr>\n",
       "    <tr>\n",
       "      <th>4</th>\n",
       "      <td>Article_56</td>\n",
       "      <td>Conselho Executivo Parte 2: CFO</td>\n",
       "      <td>Gestão</td>\n",
       "      <td>1047.0</td>\n",
       "      <td>2021-08-12</td>\n",
       "      <td>147936.0</td>\n",
       "      <td>236697.60</td>\n",
       "      <td>0.0</td>\n",
       "      <td>2.110903e+06</td>\n",
       "      <td>384633.60</td>\n",
       "      <td>66571.20</td>\n",
       "      <td>739694.0</td>\n",
       "    </tr>\n",
       "  </tbody>\n",
       "</table>\n",
       "</div>"
      ],
      "text/plain": [
       "  Article URL                                     Nome do artigo  \\\n",
       "0  Article_46      Escuta ativa e como isso mudará sua abordagem   \n",
       "1  Article_58  Observabilidade da ciência de dados para execu...   \n",
       "2  Article_40  Principais dicas para consolidar sua pilha de ...   \n",
       "3  Article_19              Desbloqueando o acesso aos seus dados   \n",
       "4  Article_56                    Conselho Executivo Parte 2: CFO   \n",
       "\n",
       "      Categoria  Campanha       Data  Visitas Diretas  Novos usuários únicos  \\\n",
       "0        Gestão    1047.0 2021-07-21         342016.0              547225.60   \n",
       "1  Data Science    1047.0 2021-08-23         272451.6              435922.56   \n",
       "2    Tecnologia    1047.0 2021-07-23         204775.2              327640.32   \n",
       "3    Tecnologia    1047.0 2021-09-10         189002.0              302403.20   \n",
       "4        Gestão    1047.0 2021-08-12         147936.0              236697.60   \n",
       "\n",
       "   Clicks pagos  Tempo de leitura (minutos)  Clicks redes sociais  \\\n",
       "0           0.0                3.245274e+06             889241.60   \n",
       "1           0.0                1.795001e+06             708374.16   \n",
       "2           0.0                2.135547e+06             532415.52   \n",
       "3           0.0                3.167173e+06             491405.20   \n",
       "4           0.0                2.110903e+06             384633.60   \n",
       "\n",
       "   Vezes pesquisados  Visualizações  \n",
       "0          153907.20      1710122.0  \n",
       "1          122603.22      1362355.0  \n",
       "2           92148.84      1023953.0  \n",
       "3           85050.90       945098.0  \n",
       "4           66571.20       739694.0  "
      ]
     },
     "execution_count": 2,
     "metadata": {},
     "output_type": "execute_result"
    }
   ],
   "source": [
    "df = pd.read_excel(io = 'bloco_de_codigo/bloco_de_codigo_basededados.xlsx')\n",
    "df.head()"
   ]
  },
  {
   "cell_type": "code",
   "execution_count": 5,
   "metadata": {},
   "outputs": [
    {
     "data": {
      "text/plain": [
       "(14105, 12)"
      ]
     },
     "execution_count": 5,
     "metadata": {},
     "output_type": "execute_result"
    }
   ],
   "source": [
    "#Dimensões do dataset\n",
    "df.shape"
   ]
  },
  {
   "cell_type": "code",
   "execution_count": 3,
   "metadata": {},
   "outputs": [
    {
     "name": "stdout",
     "output_type": "stream",
     "text": [
      "<class 'pandas.core.frame.DataFrame'>\n",
      "RangeIndex: 14105 entries, 0 to 14104\n",
      "Data columns (total 12 columns):\n",
      " #   Column                      Non-Null Count  Dtype         \n",
      "---  ------                      --------------  -----         \n",
      " 0   Article URL                 14104 non-null  object        \n",
      " 1   Nome do artigo              14104 non-null  object        \n",
      " 2   Categoria                   14104 non-null  object        \n",
      " 3   Campanha                    14104 non-null  float64       \n",
      " 4   Data                        14104 non-null  datetime64[ns]\n",
      " 5   Visitas Diretas             14104 non-null  float64       \n",
      " 6   Novos usuários únicos       14104 non-null  float64       \n",
      " 7   Clicks pagos                14105 non-null  float64       \n",
      " 8   Tempo de leitura (minutos)  14104 non-null  float64       \n",
      " 9   Clicks redes sociais        14104 non-null  float64       \n",
      " 10  Vezes pesquisados           14104 non-null  float64       \n",
      " 11  Visualizações               14104 non-null  float64       \n",
      "dtypes: datetime64[ns](1), float64(8), object(3)\n",
      "memory usage: 1.3+ MB\n"
     ]
    }
   ],
   "source": [
    "#Informações sobre as variáveis\n",
    "df.info()"
   ]
  },
  {
   "cell_type": "code",
   "execution_count": 4,
   "metadata": {},
   "outputs": [
    {
     "data": {
      "text/html": [
       "<div>\n",
       "<style scoped>\n",
       "    .dataframe tbody tr th:only-of-type {\n",
       "        vertical-align: middle;\n",
       "    }\n",
       "\n",
       "    .dataframe tbody tr th {\n",
       "        vertical-align: top;\n",
       "    }\n",
       "\n",
       "    .dataframe thead th {\n",
       "        text-align: right;\n",
       "    }\n",
       "</style>\n",
       "<table border=\"1\" class=\"dataframe\">\n",
       "  <thead>\n",
       "    <tr style=\"text-align: right;\">\n",
       "      <th></th>\n",
       "      <th>count</th>\n",
       "      <th>mean</th>\n",
       "      <th>std</th>\n",
       "      <th>min</th>\n",
       "      <th>25%</th>\n",
       "      <th>50%</th>\n",
       "      <th>75%</th>\n",
       "      <th>max</th>\n",
       "    </tr>\n",
       "  </thead>\n",
       "  <tbody>\n",
       "    <tr>\n",
       "      <th>Campanha</th>\n",
       "      <td>14104.0</td>\n",
       "      <td>1047.000000</td>\n",
       "      <td>0.000000</td>\n",
       "      <td>1047.0</td>\n",
       "      <td>1047.000000</td>\n",
       "      <td>1047.000000</td>\n",
       "      <td>1047.000000</td>\n",
       "      <td>1.047000e+03</td>\n",
       "    </tr>\n",
       "    <tr>\n",
       "      <th>Visitas Diretas</th>\n",
       "      <td>14104.0</td>\n",
       "      <td>529.194867</td>\n",
       "      <td>5326.747976</td>\n",
       "      <td>0.0</td>\n",
       "      <td>14.400000</td>\n",
       "      <td>40.000000</td>\n",
       "      <td>136.000000</td>\n",
       "      <td>3.420160e+05</td>\n",
       "    </tr>\n",
       "    <tr>\n",
       "      <th>Novos usuários únicos</th>\n",
       "      <td>14104.0</td>\n",
       "      <td>846.711787</td>\n",
       "      <td>8522.796761</td>\n",
       "      <td>0.0</td>\n",
       "      <td>23.040000</td>\n",
       "      <td>64.000000</td>\n",
       "      <td>217.600000</td>\n",
       "      <td>5.472256e+05</td>\n",
       "    </tr>\n",
       "    <tr>\n",
       "      <th>Clicks pagos</th>\n",
       "      <td>14105.0</td>\n",
       "      <td>42.975603</td>\n",
       "      <td>2655.181173</td>\n",
       "      <td>0.0</td>\n",
       "      <td>0.000000</td>\n",
       "      <td>0.000000</td>\n",
       "      <td>0.000000</td>\n",
       "      <td>3.030854e+05</td>\n",
       "    </tr>\n",
       "    <tr>\n",
       "      <th>Tempo de leitura (minutos)</th>\n",
       "      <td>14104.0</td>\n",
       "      <td>6921.125408</td>\n",
       "      <td>63844.538740</td>\n",
       "      <td>0.0</td>\n",
       "      <td>277.783912</td>\n",
       "      <td>613.818838</td>\n",
       "      <td>1764.297462</td>\n",
       "      <td>3.245274e+06</td>\n",
       "    </tr>\n",
       "    <tr>\n",
       "      <th>Clicks redes sociais</th>\n",
       "      <td>14104.0</td>\n",
       "      <td>1375.906653</td>\n",
       "      <td>13849.544737</td>\n",
       "      <td>0.0</td>\n",
       "      <td>37.440000</td>\n",
       "      <td>104.000000</td>\n",
       "      <td>353.600000</td>\n",
       "      <td>8.892416e+05</td>\n",
       "    </tr>\n",
       "    <tr>\n",
       "      <th>Vezes pesquisados</th>\n",
       "      <td>14104.0</td>\n",
       "      <td>238.137690</td>\n",
       "      <td>2397.036589</td>\n",
       "      <td>0.0</td>\n",
       "      <td>6.480000</td>\n",
       "      <td>18.000000</td>\n",
       "      <td>61.200000</td>\n",
       "      <td>1.539072e+05</td>\n",
       "    </tr>\n",
       "    <tr>\n",
       "      <th>Visualizações</th>\n",
       "      <td>14104.0</td>\n",
       "      <td>2696.204694</td>\n",
       "      <td>26634.051973</td>\n",
       "      <td>0.0</td>\n",
       "      <td>123.000000</td>\n",
       "      <td>256.000000</td>\n",
       "      <td>732.000000</td>\n",
       "      <td>1.710122e+06</td>\n",
       "    </tr>\n",
       "  </tbody>\n",
       "</table>\n",
       "</div>"
      ],
      "text/plain": [
       "                              count         mean           std     min  \\\n",
       "Campanha                    14104.0  1047.000000      0.000000  1047.0   \n",
       "Visitas Diretas             14104.0   529.194867   5326.747976     0.0   \n",
       "Novos usuários únicos       14104.0   846.711787   8522.796761     0.0   \n",
       "Clicks pagos                14105.0    42.975603   2655.181173     0.0   \n",
       "Tempo de leitura (minutos)  14104.0  6921.125408  63844.538740     0.0   \n",
       "Clicks redes sociais        14104.0  1375.906653  13849.544737     0.0   \n",
       "Vezes pesquisados           14104.0   238.137690   2397.036589     0.0   \n",
       "Visualizações               14104.0  2696.204694  26634.051973     0.0   \n",
       "\n",
       "                                    25%          50%          75%  \\\n",
       "Campanha                    1047.000000  1047.000000  1047.000000   \n",
       "Visitas Diretas               14.400000    40.000000   136.000000   \n",
       "Novos usuários únicos         23.040000    64.000000   217.600000   \n",
       "Clicks pagos                   0.000000     0.000000     0.000000   \n",
       "Tempo de leitura (minutos)   277.783912   613.818838  1764.297462   \n",
       "Clicks redes sociais          37.440000   104.000000   353.600000   \n",
       "Vezes pesquisados              6.480000    18.000000    61.200000   \n",
       "Visualizações                123.000000   256.000000   732.000000   \n",
       "\n",
       "                                     max  \n",
       "Campanha                    1.047000e+03  \n",
       "Visitas Diretas             3.420160e+05  \n",
       "Novos usuários únicos       5.472256e+05  \n",
       "Clicks pagos                3.030854e+05  \n",
       "Tempo de leitura (minutos)  3.245274e+06  \n",
       "Clicks redes sociais        8.892416e+05  \n",
       "Vezes pesquisados           1.539072e+05  \n",
       "Visualizações               1.710122e+06  "
      ]
     },
     "execution_count": 4,
     "metadata": {},
     "output_type": "execute_result"
    }
   ],
   "source": [
    "#Descrição das variáveis\n",
    "df.describe().T"
   ]
  },
  {
   "cell_type": "code",
   "execution_count": 6,
   "metadata": {},
   "outputs": [
    {
     "data": {
      "text/plain": [
       "Index(['Campanha', 'Visitas Diretas', 'Novos usuários únicos', 'Clicks pagos',\n",
       "       'Tempo de leitura (minutos)', 'Clicks redes sociais',\n",
       "       'Vezes pesquisados', 'Visualizações'],\n",
       "      dtype='object')"
      ]
     },
     "execution_count": 6,
     "metadata": {},
     "output_type": "execute_result"
    }
   ],
   "source": [
    "#Variáveis numéricas\n",
    "df_num = df.select_dtypes('number').columns\n",
    "df_num"
   ]
  },
  {
   "cell_type": "code",
   "execution_count": 8,
   "metadata": {},
   "outputs": [
    {
     "data": {
      "text/plain": [
       "Article URL                   1\n",
       "Nome do artigo                1\n",
       "Categoria                     1\n",
       "Campanha                      1\n",
       "Data                          1\n",
       "Visitas Diretas               1\n",
       "Novos usuários únicos         1\n",
       "Clicks pagos                  0\n",
       "Tempo de leitura (minutos)    1\n",
       "Clicks redes sociais          1\n",
       "Vezes pesquisados             1\n",
       "Visualizações                 1\n",
       "dtype: int64"
      ]
     },
     "execution_count": 8,
     "metadata": {},
     "output_type": "execute_result"
    }
   ],
   "source": [
    "#Soma a quantidade de registros nulos por variável\n",
    "df.isnull().sum()"
   ]
  },
  {
   "cell_type": "code",
   "execution_count": null,
   "metadata": {},
   "outputs": [],
   "source": [
    "#Mostra a linha onde há registros nulos\n",
    "df.iloc[14104]"
   ]
  },
  {
   "cell_type": "code",
   "execution_count": null,
   "metadata": {},
   "outputs": [],
   "source": [
    "#Exclusão de registros nulos\n",
    "df = df.dropna()\n",
    "#Soma de registros nulos\n",
    "df.isnull().sum()"
   ]
  },
  {
   "cell_type": "code",
   "execution_count": null,
   "metadata": {},
   "outputs": [],
   "source": [
    "#Convertendo valores float para integer\n",
    "df = df.astype(\n",
    "    {'Campanha' : 'int',\n",
    "     'Visitas Diretas' : 'int', \n",
    "     'Novos usuários únicos' : 'int', \n",
    "     'Clicks pagos' : 'int',\n",
    "     'Tempo de leitura (minutos)' : 'int', \n",
    "     'Clicks redes sociais' : 'int',\n",
    "     'Vezes pesquisados' : 'int', \n",
    "     'Visualizações' : 'int'\n",
    "     })"
   ]
  },
  {
   "cell_type": "code",
   "execution_count": null,
   "metadata": {},
   "outputs": [],
   "source": [
    "df.info()"
   ]
  },
  {
   "cell_type": "code",
   "execution_count": null,
   "metadata": {},
   "outputs": [],
   "source": [
    "#Criando uma coluna com o nome do mês\n",
    "df['MesNome'] = df['Data'].dt.month_name(locale = 'pt_BR.utf8')"
   ]
  },
  {
   "cell_type": "code",
   "execution_count": null,
   "metadata": {},
   "outputs": [],
   "source": [
    "df['Mes'] = df['Data'].dt.month"
   ]
  },
  {
   "cell_type": "code",
   "execution_count": null,
   "metadata": {},
   "outputs": [],
   "source": [
    "df.info()"
   ]
  },
  {
   "cell_type": "code",
   "execution_count": null,
   "metadata": {},
   "outputs": [],
   "source": [
    "df.head()"
   ]
  },
  {
   "cell_type": "code",
   "execution_count": null,
   "metadata": {},
   "outputs": [],
   "source": [
    "df['MesNome'].describe()"
   ]
  },
  {
   "cell_type": "code",
   "execution_count": null,
   "metadata": {},
   "outputs": [],
   "source": [
    "df_VisitasDiretas = pd.DataFrame(df.groupby(['Mes', 'MesNome'])['Visitas Diretas'].sum())\n",
    "df_VisitasDiretas"
   ]
  },
  {
   "cell_type": "code",
   "execution_count": null,
   "metadata": {},
   "outputs": [],
   "source": [
    "df.head()"
   ]
  },
  {
   "attachments": {},
   "cell_type": "markdown",
   "metadata": {},
   "source": [
    "<h4>Análise Exploratória dos Dados</h4>"
   ]
  },
  {
   "cell_type": "code",
   "execution_count": null,
   "metadata": {},
   "outputs": [],
   "source": [
    "# Definição do Tema do Seaborn\n",
    "sns.set_theme(\n",
    "    context = 'paper', style = 'darkgrid', palette = 'muted',\n",
    "    font = 'sans-serif', font_scale = 1, color_codes = True, \n",
    "    rc = None\n",
    ")"
   ]
  },
  {
   "cell_type": "code",
   "execution_count": null,
   "metadata": {},
   "outputs": [],
   "source": [
    "#Total de Visualizações\n",
    "df['Visualizações'].sum()"
   ]
  },
  {
   "cell_type": "code",
   "execution_count": null,
   "metadata": {},
   "outputs": [],
   "source": [
    "#Título da imagem\n",
    "plt.suptitle('Quantidade de visualizações')\n",
    "sns.lineplot(data = df, x = df['Mes'], y = df['Visualizações'])"
   ]
  },
  {
   "cell_type": "code",
   "execution_count": null,
   "metadata": {},
   "outputs": [],
   "source": []
  }
 ],
 "metadata": {
  "kernelspec": {
   "display_name": "Python 3",
   "language": "python",
   "name": "python3"
  },
  "language_info": {
   "codemirror_mode": {
    "name": "ipython",
    "version": 3
   },
   "file_extension": ".py",
   "mimetype": "text/x-python",
   "name": "python",
   "nbconvert_exporter": "python",
   "pygments_lexer": "ipython3",
   "version": "3.11.1"
  },
  "orig_nbformat": 4
 },
 "nbformat": 4,
 "nbformat_minor": 2
}
